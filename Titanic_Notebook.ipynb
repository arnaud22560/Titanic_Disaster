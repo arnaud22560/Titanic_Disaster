{
  "nbformat": 4,
  "nbformat_minor": 0,
  "metadata": {
    "colab": {
      "name": "Titanic_Notebook",
      "provenance": [],
      "authorship_tag": "ABX9TyNLRixwViJERiUnjB6yaPqi",
      "include_colab_link": true
    },
    "kernelspec": {
      "name": "python3",
      "display_name": "Python 3"
    }
  },
  "cells": [
    {
      "cell_type": "markdown",
      "metadata": {
        "id": "view-in-github",
        "colab_type": "text"
      },
      "source": [
        "<a href=\"https://colab.research.google.com/github/arnaud22560/Titanic_Disaster/blob/main/Titanic_Notebook.ipynb\" target=\"_parent\"><img src=\"https://colab.research.google.com/assets/colab-badge.svg\" alt=\"Open In Colab\"/></a>"
      ]
    },
    {
      "cell_type": "markdown",
      "metadata": {
        "id": "JLznLceTZfF4"
      },
      "source": [
        "# Titanic - Machine Learning from Disaster\r\n",
        "Predict survival on the Titanic and get familiar with ML basics\r\n",
        "\r\n",
        "[Kaggle competition](https://www.kaggle.com/c/titanic/overview)\r\n",
        "\r\n",
        "![alt text](https://github.com/adam-p/markdown-here/raw/master/src/common/images/icon48.png \"Logo Title Text 1\")\r\n"
      ]
    },
    {
      "cell_type": "code",
      "metadata": {
        "id": "3U_oZ_GUZSyO"
      },
      "source": [
        ""
      ],
      "execution_count": null,
      "outputs": []
    },
    {
      "cell_type": "markdown",
      "metadata": {
        "id": "t64vxJBkZcII"
      },
      "source": [
        ""
      ]
    }
  ]
}